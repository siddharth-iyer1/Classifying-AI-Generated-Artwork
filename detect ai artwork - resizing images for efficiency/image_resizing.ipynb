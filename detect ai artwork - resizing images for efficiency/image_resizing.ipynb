{
  "cells": [
    {
      "cell_type": "markdown",
      "metadata": {
        "id": "WoEnrvboaju-"
      },
      "source": [
        "Resizing the REAL and FAKE images to 256x256"
      ]
    },
    {
      "cell_type": "code",
      "execution_count": 34,
      "metadata": {
        "colab": {
          "base_uri": "https://localhost:8080/",
          "height": 365
        },
        "id": "LL7c-LZrXRCa",
        "outputId": "b5cab557-34fc-49ec-e425-caff6e423b8d"
      },
      "outputs": [],
      "source": [
        "import os\n",
        "import zipfile\n",
        "from PIL import Image\n",
        "import numpy as np\n",
        "import cv2\n",
        "\n",
        "real_folder = '/Users/siddharthiyer/Desktop/detect ai artwork - resizing images for efficiency/ai vs real art/REAL'\n",
        "fake_folder = '/Users/siddharthiyer/Desktop/detect ai artwork - resizing images for efficiency/ai vs real art/FAKE'\n",
        "\n",
        "def gauss_kernel(size, sigma):\n",
        "    size = int(size) // 2\n",
        "    x, y = np.mgrid[-size:size+1, -size:size+1]\n",
        "    g = np.exp(-((x**2 + y**2) / (2.0*sigma**2))) * (1 / (2.0 * np.pi * sigma**2))\n",
        "    g /= g.sum() # Normalize\n",
        "    return g\n",
        "\n",
        "def subsample(image_array):\n",
        "    R = image_array[:, :, 0]\n",
        "    G = image_array[:, :, 1]\n",
        "    B = image_array[:, :, 2]\n",
        "\n",
        "    R_sub = R[::2, :]\n",
        "    G_sub = G[::2, :]\n",
        "    B_sub = B[::2, :]\n",
        "    R_sub = R_sub[:, ::2]\n",
        "    G_sub = G_sub[:, ::2]\n",
        "    B_sub = B_sub[:, ::2]\n",
        "\n",
        "    subsampled_array = np.stack([R_sub, G_sub, B_sub], axis=-1)\n",
        "\n",
        "    return subsampled_array"
      ]
    },
    {
      "cell_type": "code",
      "execution_count": 36,
      "metadata": {},
      "outputs": [],
      "source": [
        "# Resize images\n",
        "\n",
        "# Images begin as 512x512. For every image, blur with gauss kernel and convolution code, then subsample to 256x256\n",
        "# Save the new images in a new folder\n",
        "\n",
        "blur_kernel = gauss_kernel(5, 1)\n",
        "\n",
        "real_resized = []\n",
        "fake_resized = []\n",
        "\n",
        "for filename in os.listdir(real_folder):\n",
        "    image = Image.open(real_folder + '/' + filename)\n",
        "    image = np.array(image)\n",
        "    image_resized = cv2.filter2D(image, -1, blur_kernel)\n",
        "    image_resized = subsample(image_resized)\n",
        "    real_resized.append(image_resized)\n",
        "\n",
        "for filename in os.listdir(fake_folder):\n",
        "    image = Image.open(real_folder + '/' + filename)\n",
        "    image = np.array(image)\n",
        "    image_resized = cv2.filter2D(image, -1, blur_kernel)\n",
        "    image_resized = subsample(image_resized)\n",
        "    fake_resized.append(image_resized)\n",
        "\n",
        "# Create folders for real and fake resized\n",
        "# os.mkdir(real_folder + '_resized')\n",
        "# os.mkdir(fake_folder + '_resized')\n",
        "\n",
        "# Save images\n",
        "for i, image in enumerate(real_resized):\n",
        "    cv2.imwrite(real_folder + '_resized/' + str(i) + '.jpg', image)\n",
        "\n",
        "for i, image in enumerate(fake_resized):\n",
        "    cv2.imwrite(fake_folder + '_resized/' + str(i) + '.jpg', image)\n"
      ]
    }
  ],
  "metadata": {
    "colab": {
      "provenance": []
    },
    "kernelspec": {
      "display_name": "Python 3",
      "name": "python3"
    },
    "language_info": {
      "codemirror_mode": {
        "name": "ipython",
        "version": 3
      },
      "file_extension": ".py",
      "mimetype": "text/x-python",
      "name": "python",
      "nbconvert_exporter": "python",
      "pygments_lexer": "ipython3",
      "version": "3.8.8"
    }
  },
  "nbformat": 4,
  "nbformat_minor": 0
}
